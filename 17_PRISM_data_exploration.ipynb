{
 "cells": [
  {
   "cell_type": "code",
   "execution_count": 22,
   "metadata": {},
   "outputs": [
    {
     "name": "stdout",
     "output_type": "stream",
     "text": [
      "The autoreload extension is already loaded. To reload it, use:\n",
      "  %reload_ext autoreload\n"
     ]
    }
   ],
   "source": [
    "%load_ext autoreload\n",
    "%autoreload 2\n",
    "\n",
    "import geopandas as gpd\n",
    "import matplotlib.pyplot as plt \n",
    "import jax.numpy as jnp\n",
    "import numpy as onp\n",
    "import pyreadr"
   ]
  },
  {
   "cell_type": "code",
   "execution_count": 40,
   "metadata": {},
   "outputs": [],
   "source": [
    "file = pyreadr.read_r(\"data/PRISM/ny_tmean/weighted_area_raster_zip_36_tmean_daily_1995.rds\")\n",
    "\n",
    "\n",
    "df = gpd.GeoDataFrame(file[None])\n"
   ]
  },
  {
   "cell_type": "code",
   "execution_count": 47,
   "metadata": {},
   "outputs": [],
   "source": [
    "df[\"zcta\"] = df[\"zcta\"].astype(\"string\")"
   ]
  },
  {
   "cell_type": "code",
   "execution_count": 24,
   "metadata": {},
   "outputs": [
    {
     "data": {
      "text/plain": [
       "array(['06390', '10001', '10002', ..., '14903', '14904', '14905'],\n",
       "      dtype=object)"
      ]
     },
     "execution_count": 24,
     "metadata": {},
     "output_type": "execute_result"
    }
   ],
   "source": [
    "onp.unique(df[\"zcta\"])"
   ]
  },
  {
   "cell_type": "code",
   "execution_count": 25,
   "metadata": {},
   "outputs": [
    {
     "data": {
      "text/plain": [
       "365.0"
      ]
     },
     "execution_count": 25,
     "metadata": {},
     "output_type": "execute_result"
    }
   ],
   "source": [
    "654810 /1794"
   ]
  },
  {
   "cell_type": "code",
   "execution_count": 26,
   "metadata": {},
   "outputs": [],
   "source": [
    "zipfile = \"zip://data/tl_2010_us_zcta510.zip\"\n",
    "all_zctas = gpd.read_file(zipfile)"
   ]
  },
  {
   "cell_type": "code",
   "execution_count": 27,
   "metadata": {},
   "outputs": [
    {
     "data": {
      "text/plain": [
       "0        04757\n",
       "1        04758\n",
       "2        04760\n",
       "3        04975\n",
       "4        04976\n",
       "         ...  \n",
       "33115    05456\n",
       "33116    05457\n",
       "33117    05458\n",
       "33118    05459\n",
       "33119    05461\n",
       "Name: ZCTA5CE10, Length: 33120, dtype: object"
      ]
     },
     "execution_count": 27,
     "metadata": {},
     "output_type": "execute_result"
    }
   ],
   "source": [
    "all_zctas[\"ZCTA5CE10\"]"
   ]
  },
  {
   "cell_type": "code",
   "execution_count": 34,
   "metadata": {},
   "outputs": [
    {
     "name": "stderr",
     "output_type": "stream",
     "text": [
      "/tmp/ipykernel_28179/3709664977.py:1: UserWarning: Geometry is in a geographic CRS. Results from 'centroid' are likely incorrect. Use 'GeoSeries.to_crs()' to re-project geometries to a projected CRS before this operation.\n",
      "\n",
      "  all_zctas_centroids = gpd.GeoDataFrame(data = all_zctas[\"ZCTA5CE10\"], geometry = all_zctas.geometry.to_crs(\"EPSG:4269\").centroid)\n"
     ]
    }
   ],
   "source": [
    "all_zctas_centroids = gpd.GeoDataFrame(data = all_zctas[\"ZCTA5CE10\"], geometry = all_zctas.geometry.to_crs(\"EPSG:4269\").centroid)\n",
    "\n",
    "all_zctas_centroids.to_file(\"data/zcta_centroids.shp\")"
   ]
  },
  {
   "cell_type": "code",
   "execution_count": 35,
   "metadata": {},
   "outputs": [
    {
     "data": {
      "text/html": [
       "<div>\n",
       "<style scoped>\n",
       "    .dataframe tbody tr th:only-of-type {\n",
       "        vertical-align: middle;\n",
       "    }\n",
       "\n",
       "    .dataframe tbody tr th {\n",
       "        vertical-align: top;\n",
       "    }\n",
       "\n",
       "    .dataframe thead th {\n",
       "        text-align: right;\n",
       "    }\n",
       "</style>\n",
       "<table border=\"1\" class=\"dataframe\">\n",
       "  <thead>\n",
       "    <tr style=\"text-align: right;\">\n",
       "      <th></th>\n",
       "      <th>ZCTA5CE10</th>\n",
       "      <th>geometry</th>\n",
       "    </tr>\n",
       "  </thead>\n",
       "  <tbody>\n",
       "    <tr>\n",
       "      <th>0</th>\n",
       "      <td>04757</td>\n",
       "      <td>POINT (-68.17241 46.66262)</td>\n",
       "    </tr>\n",
       "    <tr>\n",
       "      <th>1</th>\n",
       "      <td>04758</td>\n",
       "      <td>POINT (-67.84723 46.55424)</td>\n",
       "    </tr>\n",
       "    <tr>\n",
       "      <th>2</th>\n",
       "      <td>04760</td>\n",
       "      <td>POINT (-67.93639 46.34674)</td>\n",
       "    </tr>\n",
       "    <tr>\n",
       "      <th>3</th>\n",
       "      <td>04975</td>\n",
       "      <td>POINT (-69.58833 44.62535)</td>\n",
       "    </tr>\n",
       "    <tr>\n",
       "      <th>4</th>\n",
       "      <td>04976</td>\n",
       "      <td>POINT (-69.66953 44.79877)</td>\n",
       "    </tr>\n",
       "    <tr>\n",
       "      <th>...</th>\n",
       "      <td>...</td>\n",
       "      <td>...</td>\n",
       "    </tr>\n",
       "    <tr>\n",
       "      <th>33115</th>\n",
       "      <td>05456</td>\n",
       "      <td>POINT (-73.25508 44.20763)</td>\n",
       "    </tr>\n",
       "    <tr>\n",
       "      <th>33116</th>\n",
       "      <td>05457</td>\n",
       "      <td>POINT (-72.91338 44.97100)</td>\n",
       "    </tr>\n",
       "    <tr>\n",
       "      <th>33117</th>\n",
       "      <td>05458</td>\n",
       "      <td>POINT (-73.30545 44.71823)</td>\n",
       "    </tr>\n",
       "    <tr>\n",
       "      <th>33118</th>\n",
       "      <td>05459</td>\n",
       "      <td>POINT (-73.00456 44.95348)</td>\n",
       "    </tr>\n",
       "    <tr>\n",
       "      <th>33119</th>\n",
       "      <td>05461</td>\n",
       "      <td>POINT (-73.09129 44.32227)</td>\n",
       "    </tr>\n",
       "  </tbody>\n",
       "</table>\n",
       "<p>33120 rows × 2 columns</p>\n",
       "</div>"
      ],
      "text/plain": [
       "      ZCTA5CE10                    geometry\n",
       "0         04757  POINT (-68.17241 46.66262)\n",
       "1         04758  POINT (-67.84723 46.55424)\n",
       "2         04760  POINT (-67.93639 46.34674)\n",
       "3         04975  POINT (-69.58833 44.62535)\n",
       "4         04976  POINT (-69.66953 44.79877)\n",
       "...         ...                         ...\n",
       "33115     05456  POINT (-73.25508 44.20763)\n",
       "33116     05457  POINT (-72.91338 44.97100)\n",
       "33117     05458  POINT (-73.30545 44.71823)\n",
       "33118     05459  POINT (-73.00456 44.95348)\n",
       "33119     05461  POINT (-73.09129 44.32227)\n",
       "\n",
       "[33120 rows x 2 columns]"
      ]
     },
     "execution_count": 35,
     "metadata": {},
     "output_type": "execute_result"
    }
   ],
   "source": [
    "all_zctas\n",
    "all_zctas_centroids"
   ]
  },
  {
   "cell_type": "code",
   "execution_count": 48,
   "metadata": {},
   "outputs": [],
   "source": [
    "ny_zctas = all_zctas_centroids.merge(df, how=\"right\", left_on=\"ZCTA5CE10\", right_on=\"zcta\")"
   ]
  },
  {
   "cell_type": "code",
   "execution_count": 49,
   "metadata": {},
   "outputs": [
    {
     "data": {
      "text/html": [
       "<div>\n",
       "<style scoped>\n",
       "    .dataframe tbody tr th:only-of-type {\n",
       "        vertical-align: middle;\n",
       "    }\n",
       "\n",
       "    .dataframe tbody tr th {\n",
       "        vertical-align: top;\n",
       "    }\n",
       "\n",
       "    .dataframe thead th {\n",
       "        text-align: right;\n",
       "    }\n",
       "</style>\n",
       "<table border=\"1\" class=\"dataframe\">\n",
       "  <thead>\n",
       "    <tr style=\"text-align: right;\">\n",
       "      <th></th>\n",
       "      <th>ZCTA5CE10</th>\n",
       "      <th>geometry</th>\n",
       "      <th>zcta</th>\n",
       "      <th>tmean</th>\n",
       "      <th>date</th>\n",
       "      <th>day</th>\n",
       "      <th>month</th>\n",
       "      <th>year</th>\n",
       "    </tr>\n",
       "  </thead>\n",
       "  <tbody>\n",
       "    <tr>\n",
       "      <th>0</th>\n",
       "      <td>06390</td>\n",
       "      <td>POINT (-71.98836 41.27036)</td>\n",
       "      <td>06390</td>\n",
       "      <td>3.021317</td>\n",
       "      <td>01/01/1995</td>\n",
       "      <td>01</td>\n",
       "      <td>01</td>\n",
       "      <td>1995.0</td>\n",
       "    </tr>\n",
       "    <tr>\n",
       "      <th>1</th>\n",
       "      <td>10001</td>\n",
       "      <td>POINT (-73.99728 40.75067)</td>\n",
       "      <td>10001</td>\n",
       "      <td>0.295794</td>\n",
       "      <td>01/01/1995</td>\n",
       "      <td>01</td>\n",
       "      <td>01</td>\n",
       "      <td>1995.0</td>\n",
       "    </tr>\n",
       "    <tr>\n",
       "      <th>2</th>\n",
       "      <td>10002</td>\n",
       "      <td>POINT (-73.98626 40.71576)</td>\n",
       "      <td>10002</td>\n",
       "      <td>0.592701</td>\n",
       "      <td>01/01/1995</td>\n",
       "      <td>01</td>\n",
       "      <td>01</td>\n",
       "      <td>1995.0</td>\n",
       "    </tr>\n",
       "    <tr>\n",
       "      <th>3</th>\n",
       "      <td>10003</td>\n",
       "      <td>POINT (-73.98918 40.73183)</td>\n",
       "      <td>10003</td>\n",
       "      <td>0.295794</td>\n",
       "      <td>01/01/1995</td>\n",
       "      <td>01</td>\n",
       "      <td>01</td>\n",
       "      <td>1995.0</td>\n",
       "    </tr>\n",
       "    <tr>\n",
       "      <th>4</th>\n",
       "      <td>10004</td>\n",
       "      <td>POINT (-74.01594 40.69432)</td>\n",
       "      <td>10004</td>\n",
       "      <td>0.464349</td>\n",
       "      <td>01/01/1995</td>\n",
       "      <td>01</td>\n",
       "      <td>01</td>\n",
       "      <td>1995.0</td>\n",
       "    </tr>\n",
       "    <tr>\n",
       "      <th>...</th>\n",
       "      <td>...</td>\n",
       "      <td>...</td>\n",
       "      <td>...</td>\n",
       "      <td>...</td>\n",
       "      <td>...</td>\n",
       "      <td>...</td>\n",
       "      <td>...</td>\n",
       "      <td>...</td>\n",
       "    </tr>\n",
       "    <tr>\n",
       "      <th>654805</th>\n",
       "      <td>14898</td>\n",
       "      <td>POINT (-77.43904 42.05707)</td>\n",
       "      <td>14898</td>\n",
       "      <td>-8.191716</td>\n",
       "      <td>31/12/1995</td>\n",
       "      <td>31</td>\n",
       "      <td>12</td>\n",
       "      <td>1995.0</td>\n",
       "    </tr>\n",
       "    <tr>\n",
       "      <th>654806</th>\n",
       "      <td>14901</td>\n",
       "      <td>POINT (-76.74429 42.08203)</td>\n",
       "      <td>14901</td>\n",
       "      <td>-6.047663</td>\n",
       "      <td>31/12/1995</td>\n",
       "      <td>31</td>\n",
       "      <td>12</td>\n",
       "      <td>1995.0</td>\n",
       "    </tr>\n",
       "    <tr>\n",
       "      <th>654807</th>\n",
       "      <td>14903</td>\n",
       "      <td>POINT (-76.87557 42.12526)</td>\n",
       "      <td>14903</td>\n",
       "      <td>-6.477991</td>\n",
       "      <td>31/12/1995</td>\n",
       "      <td>31</td>\n",
       "      <td>12</td>\n",
       "      <td>1995.0</td>\n",
       "    </tr>\n",
       "    <tr>\n",
       "      <th>654808</th>\n",
       "      <td>14904</td>\n",
       "      <td>POINT (-76.79986 42.06985)</td>\n",
       "      <td>14904</td>\n",
       "      <td>-5.841984</td>\n",
       "      <td>31/12/1995</td>\n",
       "      <td>31</td>\n",
       "      <td>12</td>\n",
       "      <td>1995.0</td>\n",
       "    </tr>\n",
       "    <tr>\n",
       "      <th>654809</th>\n",
       "      <td>14905</td>\n",
       "      <td>POINT (-76.84393 42.08825)</td>\n",
       "      <td>14905</td>\n",
       "      <td>-6.013008</td>\n",
       "      <td>31/12/1995</td>\n",
       "      <td>31</td>\n",
       "      <td>12</td>\n",
       "      <td>1995.0</td>\n",
       "    </tr>\n",
       "  </tbody>\n",
       "</table>\n",
       "<p>654810 rows × 8 columns</p>\n",
       "</div>"
      ],
      "text/plain": [
       "       ZCTA5CE10                    geometry   zcta     tmean        date day  \\\n",
       "0          06390  POINT (-71.98836 41.27036)  06390  3.021317  01/01/1995  01   \n",
       "1          10001  POINT (-73.99728 40.75067)  10001  0.295794  01/01/1995  01   \n",
       "2          10002  POINT (-73.98626 40.71576)  10002  0.592701  01/01/1995  01   \n",
       "3          10003  POINT (-73.98918 40.73183)  10003  0.295794  01/01/1995  01   \n",
       "4          10004  POINT (-74.01594 40.69432)  10004  0.464349  01/01/1995  01   \n",
       "...          ...                         ...    ...       ...         ...  ..   \n",
       "654805     14898  POINT (-77.43904 42.05707)  14898 -8.191716  31/12/1995  31   \n",
       "654806     14901  POINT (-76.74429 42.08203)  14901 -6.047663  31/12/1995  31   \n",
       "654807     14903  POINT (-76.87557 42.12526)  14903 -6.477991  31/12/1995  31   \n",
       "654808     14904  POINT (-76.79986 42.06985)  14904 -5.841984  31/12/1995  31   \n",
       "654809     14905  POINT (-76.84393 42.08825)  14905 -6.013008  31/12/1995  31   \n",
       "\n",
       "       month    year  \n",
       "0         01  1995.0  \n",
       "1         01  1995.0  \n",
       "2         01  1995.0  \n",
       "3         01  1995.0  \n",
       "4         01  1995.0  \n",
       "...      ...     ...  \n",
       "654805    12  1995.0  \n",
       "654806    12  1995.0  \n",
       "654807    12  1995.0  \n",
       "654808    12  1995.0  \n",
       "654809    12  1995.0  \n",
       "\n",
       "[654810 rows x 8 columns]"
      ]
     },
     "execution_count": 49,
     "metadata": {},
     "output_type": "execute_result"
    }
   ],
   "source": [
    "ny_zctas"
   ]
  },
  {
   "cell_type": "code",
   "execution_count": 50,
   "metadata": {},
   "outputs": [],
   "source": [
    "ny_zctas.to_file(\"ny_tmean_centroids.geojson\", drive=\"GeoJSON\")"
   ]
  },
  {
   "cell_type": "code",
   "execution_count": null,
   "metadata": {},
   "outputs": [],
   "source": []
  }
 ],
 "metadata": {
  "kernelspec": {
   "display_name": "jax_numpyro_env",
   "language": "python",
   "name": "python3"
  },
  "language_info": {
   "codemirror_mode": {
    "name": "ipython",
    "version": 3
   },
   "file_extension": ".py",
   "mimetype": "text/x-python",
   "name": "python",
   "nbconvert_exporter": "python",
   "pygments_lexer": "ipython3",
   "version": "3.10.9"
  },
  "orig_nbformat": 4
 },
 "nbformat": 4,
 "nbformat_minor": 2
}
