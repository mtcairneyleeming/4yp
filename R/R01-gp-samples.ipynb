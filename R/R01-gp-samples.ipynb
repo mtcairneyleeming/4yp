{
 "cells": [
  {
   "cell_type": "code",
   "execution_count": 1,
   "metadata": {
    "vscode": {
     "languageId": "r"
    }
   },
   "outputs": [
    {
     "name": "stderr",
     "output_type": "stream",
     "text": [
      "Loading required package: Matrix\n",
      "\n",
      "Loading required package: foreach\n",
      "\n",
      "Loading required package: parallel\n",
      "\n",
      "Loading required package: sp\n",
      "\n",
      "This is INLA_22.12.16 built 2022-12-23 13:24:10 UTC.\n",
      " - See www.r-inla.org/contact-us for how to get help.\n",
      " - To enable PARDISO sparse library; see inla.pardiso()\n",
      "\n"
     ]
    },
    {
     "data": {
      "text/html": [
       "<style>\n",
       ".list-inline {list-style: none; margin:0; padding: 0}\n",
       ".list-inline>li {display: inline-block}\n",
       ".list-inline>li:not(:last-child)::after {content: \"\\00b7\"; padding: 0 .5ex}\n",
       "</style>\n",
       "<ol class=list-inline><li>-0.19535591416773</li><li>-0.34435950290529</li><li>-0.805560977056546</li><li>-1.78148327503369</li><li>-2.11022578501176</li><li>-1.81153842347923</li><li>-2.44975081166377</li><li>-2.55141740474001</li><li>-1.24157237740263</li><li>0.622114950510034</li></ol>\n"
      ],
      "text/latex": [
       "\\begin{enumerate*}\n",
       "\\item -0.19535591416773\n",
       "\\item -0.34435950290529\n",
       "\\item -0.805560977056546\n",
       "\\item -1.78148327503369\n",
       "\\item -2.11022578501176\n",
       "\\item -1.81153842347923\n",
       "\\item -2.44975081166377\n",
       "\\item -2.55141740474001\n",
       "\\item -1.24157237740263\n",
       "\\item 0.622114950510034\n",
       "\\end{enumerate*}\n"
      ],
      "text/markdown": [
       "1. -0.19535591416773\n",
       "2. -0.34435950290529\n",
       "3. -0.805560977056546\n",
       "4. -1.78148327503369\n",
       "5. -2.11022578501176\n",
       "6. -1.81153842347923\n",
       "7. -2.44975081166377\n",
       "8. -2.55141740474001\n",
       "9. -1.24157237740263\n",
       "10. 0.622114950510034\n",
       "\n",
       "\n"
      ],
      "text/plain": [
       " [1] -0.1953559 -0.3443595 -0.8055610 -1.7814833 -2.1102258 -1.8115384\n",
       " [7] -2.4497508 -2.5514174 -1.2415724  0.6221150"
      ]
     },
     "metadata": {},
     "output_type": "display_data"
    },
    {
     "data": {
      "image/png": "[encoded data removed]",
      "text/plain": [
       "plot without title"
      ]
     },
     "metadata": {
      "image/png": {
       "height": 420,
       "width": 420
      }
     },
     "output_type": "display_data"
    }
   ],
   "source": [
    "library(INLA)\n",
    "library(invgamma)\n",
    "library(\"MASS\")\n",
    "library(\"fdrtool\") # for rhalfnorm\n",
    "\n",
    "\n",
    "n = 10\n",
    "\n",
    "x= (1:n) / n\n",
    "\n",
    "# =================================================\n",
    "# gp definition\n",
    "\n",
    "# kernel priors\n",
    "length = rinvgamma(1, 4.0, 1.0)\n",
    "var = rlnorm(1, 0., 0.1)\n",
    "\n",
    "# distance matrix\n",
    "XtX <- tcrossprod(x)\n",
    "XX <- matrix(1, n) %*% diag(XtX)\n",
    "D <- XX - 2*XtX + t(XX) # distance matrix\n",
    "\n",
    "# complete kernel\n",
    "k = var * exp(-0.5 * (D/length ^ 2 ))\n",
    "k = k + diag(2e-5, n, n)\n",
    "\n",
    "f = mvrnorm(1, rep(0, n), k)\n",
    "\n",
    "sigma = rhalfnorm(1, 100)\n",
    "sigma_mat = diag(sigma, n, n) \n",
    "y = mvrnorm(1, f, sigma_mat)\n",
    "\n",
    "plot(1:n, y)\n",
    "y"
   ]
  },
  {
   "cell_type": "code",
   "execution_count": 2,
   "metadata": {
    "vscode": {
     "languageId": "r"
    }
   },
   "outputs": [
    {
     "data": {
      "text/html": [
       "<style>\n",
       ".list-inline {list-style: none; margin:0; padding: 0}\n",
       ".list-inline>li {display: inline-block}\n",
       ".list-inline>li:not(:last-child)::after {content: \"\\00b7\"; padding: 0 .5ex}\n",
       "</style>\n",
       "<ol class=list-inline><li>&lt;NA&gt;</li><li>&lt;NA&gt;</li><li>&lt;NA&gt;</li><li>&lt;NA&gt;</li><li>&lt;NA&gt;</li><li>&lt;NA&gt;</li><li>&lt;NA&gt;</li><li>-0.5724526</li><li>&lt;NA&gt;</li><li>&lt;NA&gt;</li><li>&lt;NA&gt;</li><li>&lt;NA&gt;</li><li>&lt;NA&gt;</li><li>&lt;NA&gt;</li><li>&lt;NA&gt;</li><li>&lt;NA&gt;</li><li>&lt;NA&gt;</li><li>&lt;NA&gt;</li><li>&lt;NA&gt;</li><li>&lt;NA&gt;</li><li>&lt;NA&gt;</li><li>&lt;NA&gt;</li><li>&lt;NA&gt;</li><li>0.1252361</li><li>&lt;NA&gt;</li><li>&lt;NA&gt;</li><li>&lt;NA&gt;</li><li>&lt;NA&gt;</li><li>&lt;NA&gt;</li><li>&lt;NA&gt;</li><li>&lt;NA&gt;</li><li>&lt;NA&gt;</li><li>&lt;NA&gt;</li><li>&lt;NA&gt;</li><li>&lt;NA&gt;</li><li>&lt;NA&gt;</li><li>&lt;NA&gt;</li><li>&lt;NA&gt;</li><li>&lt;NA&gt;</li><li>&lt;NA&gt;</li><li>&lt;NA&gt;</li><li>&lt;NA&gt;</li><li>&lt;NA&gt;</li><li>&lt;NA&gt;</li><li>0.72148114</li><li>&lt;NA&gt;</li><li>&lt;NA&gt;</li><li>&lt;NA&gt;</li><li>&lt;NA&gt;</li><li>&lt;NA&gt;</li><li>&lt;NA&gt;</li><li>&lt;NA&gt;</li><li>&lt;NA&gt;</li><li>&lt;NA&gt;</li><li>&lt;NA&gt;</li><li>&lt;NA&gt;</li><li>&lt;NA&gt;</li><li>&lt;NA&gt;</li><li>&lt;NA&gt;</li><li>&lt;NA&gt;</li><li>0.25085276</li><li>&lt;NA&gt;</li><li>&lt;NA&gt;</li><li>&lt;NA&gt;</li><li>&lt;NA&gt;</li><li>&lt;NA&gt;</li><li>&lt;NA&gt;</li><li>&lt;NA&gt;</li><li>&lt;NA&gt;</li><li>&lt;NA&gt;</li><li>&lt;NA&gt;</li><li>&lt;NA&gt;</li><li>&lt;NA&gt;</li><li>&lt;NA&gt;</li><li>&lt;NA&gt;</li><li>&lt;NA&gt;</li><li>-0.3888183</li><li>&lt;NA&gt;</li><li>&lt;NA&gt;</li><li>&lt;NA&gt;</li><li>&lt;NA&gt;</li><li>&lt;NA&gt;</li><li>&lt;NA&gt;</li><li>-0.62317157</li></ol>\n"
      ],
      "text/latex": [
       "\\begin{enumerate*}\n",
       "\\item <NA>\n",
       "\\item <NA>\n",
       "\\item <NA>\n",
       "\\item <NA>\n",
       "\\item <NA>\n",
       "\\item <NA>\n",
       "\\item <NA>\n",
       "\\item -0.5724526\n",
       "\\item <NA>\n",
       "\\item <NA>\n",
       "\\item <NA>\n",
       "\\item <NA>\n",
       "\\item <NA>\n",
       "\\item <NA>\n",
       "\\item <NA>\n",
       "\\item <NA>\n",
       "\\item <NA>\n",
       "\\item <NA>\n",
       "\\item <NA>\n",
       "\\item <NA>\n",
       "\\item <NA>\n",
       "\\item <NA>\n",
       "\\item <NA>\n",
       "\\item 0.1252361\n",
       "\\item <NA>\n",
       "\\item <NA>\n",
       "\\item <NA>\n",
       "\\item <NA>\n",
       "\\item <NA>\n",
       "\\item <NA>\n",
       "\\item <NA>\n",
       "\\item <NA>\n",
       "\\item <NA>\n",
       "\\item <NA>\n",
       "\\item <NA>\n",
       "\\item <NA>\n",
       "\\item <NA>\n",
       "\\item <NA>\n",
       "\\item <NA>\n",
       "\\item <NA>\n",
       "\\item <NA>\n",
       "\\item <NA>\n",
       "\\item <NA>\n",
       "\\item <NA>\n",
       "\\item 0.72148114\n",
       "\\item <NA>\n",
       "\\item <NA>\n",
       "\\item <NA>\n",
       "\\item <NA>\n",
       "\\item <NA>\n",
       "\\item <NA>\n",
       "\\item <NA>\n",
       "\\item <NA>\n",
       "\\item <NA>\n",
       "\\item <NA>\n",
       "\\item <NA>\n",
       "\\item <NA>\n",
       "\\item <NA>\n",
       "\\item <NA>\n",
       "\\item <NA>\n",
       "\\item 0.25085276\n",
       "\\item <NA>\n",
       "\\item <NA>\n",
       "\\item <NA>\n",
       "\\item <NA>\n",
       "\\item <NA>\n",
       "\\item <NA>\n",
       "\\item <NA>\n",
       "\\item <NA>\n",
       "\\item <NA>\n",
       "\\item <NA>\n",
       "\\item <NA>\n",
       "\\item <NA>\n",
       "\\item <NA>\n",
       "\\item <NA>\n",
       "\\item <NA>\n",
       "\\item -0.3888183\n",
       "\\item <NA>\n",
       "\\item <NA>\n",
       "\\item <NA>\n",
       "\\item <NA>\n",
       "\\item <NA>\n",
       "\\item <NA>\n",
       "\\item -0.62317157\n",
       "\\end{enumerate*}\n"
      ],
      "text/markdown": [
       "1. &lt;NA&gt;\n",
       "2. &lt;NA&gt;\n",
       "3. &lt;NA&gt;\n",
       "4. &lt;NA&gt;\n",
       "5. &lt;NA&gt;\n",
       "6. &lt;NA&gt;\n",
       "7. &lt;NA&gt;\n",
       "8. -0.5724526\n",
       "9. &lt;NA&gt;\n",
       "10. &lt;NA&gt;\n",
       "11. &lt;NA&gt;\n",
       "12. &lt;NA&gt;\n",
       "13. &lt;NA&gt;\n",
       "14. &lt;NA&gt;\n",
       "15. &lt;NA&gt;\n",
       "16. &lt;NA&gt;\n",
       "17. &lt;NA&gt;\n",
       "18. &lt;NA&gt;\n",
       "19. &lt;NA&gt;\n",
       "20. &lt;NA&gt;\n",
       "21. &lt;NA&gt;\n",
       "22. &lt;NA&gt;\n",
       "23. &lt;NA&gt;\n",
       "24. 0.1252361\n",
       "25. &lt;NA&gt;\n",
       "26. &lt;NA&gt;\n",
       "27. &lt;NA&gt;\n",
       "28. &lt;NA&gt;\n",
       "29. &lt;NA&gt;\n",
       "30. &lt;NA&gt;\n",
       "31. &lt;NA&gt;\n",
       "32. &lt;NA&gt;\n",
       "33. &lt;NA&gt;\n",
       "34. &lt;NA&gt;\n",
       "35. &lt;NA&gt;\n",
       "36. &lt;NA&gt;\n",
       "37. &lt;NA&gt;\n",
       "38. &lt;NA&gt;\n",
       "39. &lt;NA&gt;\n",
       "40. &lt;NA&gt;\n",
       "41. &lt;NA&gt;\n",
       "42. &lt;NA&gt;\n",
       "43. &lt;NA&gt;\n",
       "44. &lt;NA&gt;\n",
       "45. 0.72148114\n",
       "46. &lt;NA&gt;\n",
       "47. &lt;NA&gt;\n",
       "48. &lt;NA&gt;\n",
       "49. &lt;NA&gt;\n",
       "50. &lt;NA&gt;\n",
       "51. &lt;NA&gt;\n",
       "52. &lt;NA&gt;\n",
       "53. &lt;NA&gt;\n",
       "54. &lt;NA&gt;\n",
       "55. &lt;NA&gt;\n",
       "56. &lt;NA&gt;\n",
       "57. &lt;NA&gt;\n",
       "58. &lt;NA&gt;\n",
       "59. &lt;NA&gt;\n",
       "60. &lt;NA&gt;\n",
       "61. 0.25085276\n",
       "62. &lt;NA&gt;\n",
       "63. &lt;NA&gt;\n",
       "64. &lt;NA&gt;\n",
       "65. &lt;NA&gt;\n",
       "66. &lt;NA&gt;\n",
       "67. &lt;NA&gt;\n",
       "68. &lt;NA&gt;\n",
       "69. &lt;NA&gt;\n",
       "70. &lt;NA&gt;\n",
       "71. &lt;NA&gt;\n",
       "72. &lt;NA&gt;\n",
       "73. &lt;NA&gt;\n",
       "74. &lt;NA&gt;\n",
       "75. &lt;NA&gt;\n",
       "76. &lt;NA&gt;\n",
       "77. -0.3888183\n",
       "78. &lt;NA&gt;\n",
       "79. &lt;NA&gt;\n",
       "80. &lt;NA&gt;\n",
       "81. &lt;NA&gt;\n",
       "82. &lt;NA&gt;\n",
       "83. &lt;NA&gt;\n",
       "84. -0.62317157\n",
       "\n",
       "\n"
      ],
      "text/plain": [
       " [1]         NA         NA         NA         NA         NA         NA\n",
       " [7]         NA -0.5724526         NA         NA         NA         NA\n",
       "[13]         NA         NA         NA         NA         NA         NA\n",
       "[19]         NA         NA         NA         NA         NA  0.1252361\n",
       "[25]         NA         NA         NA         NA         NA         NA\n",
       "[31]         NA         NA         NA         NA         NA         NA\n",
       "[37]         NA         NA         NA         NA         NA         NA\n",
       "[43]         NA         NA  0.7214811         NA         NA         NA\n",
       "[49]         NA         NA         NA         NA         NA         NA\n",
       "[55]         NA         NA         NA         NA         NA         NA\n",
       "[61]  0.2508528         NA         NA         NA         NA         NA\n",
       "[67]         NA         NA         NA         NA         NA         NA\n",
       "[73]         NA         NA         NA         NA -0.3888183         NA\n",
       "[79]         NA         NA         NA         NA         NA -0.6231716"
      ]
     },
     "metadata": {},
     "output_type": "display_data"
    },
    {
     "name": "stdout",
     "output_type": "stream",
     "text": [
      "Error in inla.core(formula = formula, family = family, contrasts = contrasts,  : \n",
      "  Missing data.frame/list `data'. Leaving `data' empty might lead to\n",
      "\t\tuncontrolled behaviour, therefore is it required.\n",
      "\n",
      " *** inla.core.safe:  inla.program has crashed: rerun to get better initial values. try=1/2 \n",
      "Error in inla.core(formula = formula, family = family, contrasts = contrasts,  : \n",
      "  Missing data.frame/list `data'. Leaving `data' empty might lead to\n",
      "\t\tuncontrolled behaviour, therefore is it required.\n",
      "\n",
      " *** inla.core.safe:  inla.program has crashed: rerun to get better initial values. try=2/2 \n",
      "Error in inla.core(formula = formula, family = family, contrasts = contrasts,  : \n",
      "  Missing data.frame/list `data'. Leaving `data' empty might lead to\n",
      "\t\tuncontrolled behaviour, therefore is it required.\n"
     ]
    },
    {
     "ename": "ERROR",
     "evalue": "Error in inla.core.safe(formula = formula, family = family, contrasts = contrasts, : *** Fail to get good enough initial values. Maybe it is due to something else.\n",
     "output_type": "error",
     "traceback": [
      "Error in inla.core.safe(formula = formula, family = family, contrasts = contrasts, : *** Fail to get good enough initial values. Maybe it is due to something else.\nTraceback:\n",
      "1. inla(y ~ obs)",
      "2. inla.core.safe(formula = formula, family = family, contrasts = contrasts, \n .     data = data, quantiles = quantiles, E = E, offset = offset, \n .     scale = scale, weights = weights, Ntrials = Ntrials, strata = strata, \n .     lp.scale = lp.scale, link.covariates = link.covariates, verbose = verbose, \n .     lincomb = lincomb, selection = selection, control.compute = control.compute, \n .     control.predictor = control.predictor, control.family = control.family, \n .     control.inla = control.inla, control.fixed = control.fixed, \n .     control.mode = control.mode, control.expert = control.expert, \n .     control.hazard = control.hazard, control.lincomb = control.lincomb, \n .     control.update = control.update, control.lp.scale = control.lp.scale, \n .     control.pardiso = control.pardiso, only.hyperparam = only.hyperparam, \n .     inla.call = inla.call, inla.arg = inla.arg, num.threads = num.threads, \n .     blas.num.threads = blas.num.threads, keep = keep, working.directory = working.directory, \n .     silent = silent, inla.mode = inla.mode, safe = FALSE, debug = debug, \n .     .parent.frame = .parent.frame)",
      "3. stop(\"*** Fail to get good enough initial values. Maybe it is due to something else.\")"
     ]
    }
   ],
   "source": [
    "obs_idx = c(8, 24, 45, 61, 77, 84)\n",
    "gt_obs = c(-0.5724526,   0.1252361,   0.72148114,  0.25085276, -0.3888183,  -0.62317157)\n",
    "\n",
    "observations = rep(NA, n)\n",
    "for (i in 1:length(obs_idx)){\n",
    "    observations[obs_idx[i]] = gt_obs[i]\n",
    "}\n",
    "observations\n",
    "\n",
    "test_inla = inla(y~obs )"
   ]
  },
  {
   "cell_type": "code",
   "execution_count": null,
   "metadata": {
    "vscode": {
     "languageId": "r"
    }
   },
   "outputs": [],
   "source": []
  }
 ],
 "metadata": {
  "kernelspec": {
   "display_name": "R",
   "language": "R",
   "name": "ir"
  },
  "language_info": {
   "codemirror_mode": "r",
   "file_extension": ".r",
   "mimetype": "text/x-r-source",
   "name": "R",
   "pygments_lexer": "r",
   "version": "4.2.3"
  },
  "orig_nbformat": 4
 },
 "nbformat": 4,
 "nbformat_minor": 2
}
