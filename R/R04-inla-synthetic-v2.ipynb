{
 "cells": [
  {
   "cell_type": "code",
   "execution_count": 1,
   "metadata": {
    "vscode": {
     "languageId": "r"
    }
   },
   "outputs": [
    {
     "name": "stderr",
     "output_type": "stream",
     "text": [
      "Loading required package: Matrix\n",
      "\n",
      "Loading required package: foreach\n",
      "\n",
      "Loading required package: parallel\n",
      "\n",
      "Loading required package: sp\n",
      "\n",
      "This is INLA_22.12.16 built 2022-12-23 13:24:10 UTC.\n",
      " - See www.r-inla.org/contact-us for how to get help.\n",
      " - To enable PARDISO sparse library; see inla.pardiso()\n",
      "\n"
     ]
    },
    {
     "ename": "ERROR",
     "evalue": "Error in nrow(sf): object 'sf' not found\n",
     "output_type": "error",
     "traceback": [
      "Error in nrow(sf): object 'sf' not found\nTraceback:\n",
      "1. nrow(sf)"
     ]
    }
   ],
   "source": [
    "library(INLA)\n",
    "library(invgamma)\n",
    "library(\"MASS\")\n",
    "library(\"fdrtool\")\n",
    "\n",
    "n = 100\n",
    "x= (1:n) / n\n",
    "\n",
    "# covariance matrix using exp-squared kernel, without lengthscale or variance\n",
    "K = exp(-0.5 * dist(as.matrix(x), upper=TRUE, diag=TRUE, method=\"euclidean\", p=2) ^2)\n",
    "\n",
    "precision = Matrix::solve((K))\n",
    "\n",
    "dat <- list(id = 1:n,\n",
    "            y = sf$y,\n",
    "            m = sf$n_obs)\n",
    "\n",
    "# sigma ~ N(0. 2.5^2); initial in terms of log(tau) so 0 corresponds to tau = 1\n",
    "tau_prior <- list(prec = list(prior = \"logtnormal\", param = c(0, 1/2.5^2),\n",
    "                            initial = 0, fixed = FALSE))\n",
    "\n",
    "beta_prior <- list(mean.intercept = -2, prec.intercept = 1)\n",
    "\n",
    "# See inla.doc(\"generic0\")\n",
    "formula <- y ~ 1 + f(id, model = \"generic0\", Cmatrix = K, hyper = tau_prior)\n",
    "\n",
    "fit <- INLA::inla(formula,\n",
    "                family = \"xbinomial\",\n",
    "                control.family = list(control.link = list(model = \"logit\")),\n",
    "                control.fixed = beta_prior,\n",
    "                data = dat,\n",
    "                Ntrials = m,\n",
    "                control.predictor = list(compute = TRUE, link = 1),\n",
    "                control.compute = list(\n",
    "                    dic = TRUE, waic = TRUE, cpo = TRUE, config = TRUE, \n",
    "                    return.marginals.predictor = TRUE\n",
    "                ),\n",
    "                verbose = verbose,\n",
    "                num.threads = cores,\n",
    "                inla.mode = \"experimental\")"
   ]
  },
  {
   "cell_type": "code",
   "execution_count": null,
   "metadata": {
    "vscode": {
     "languageId": "r"
    }
   },
   "outputs": [],
   "source": []
  }
 ],
 "metadata": {
  "kernelspec": {
   "display_name": "R",
   "language": "R",
   "name": "ir"
  },
  "language_info": {
   "codemirror_mode": "r",
   "file_extension": ".r",
   "mimetype": "text/x-r-source",
   "name": "R",
   "pygments_lexer": "r",
   "version": "4.2.3"
  },
  "orig_nbformat": 4
 },
 "nbformat": 4,
 "nbformat_minor": 2
}
